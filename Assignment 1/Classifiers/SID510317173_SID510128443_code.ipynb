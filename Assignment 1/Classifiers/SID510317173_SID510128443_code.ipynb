{
 "cells": [
  {
   "cell_type": "markdown",
   "metadata": {},
   "source": [
    "# COMP5318 - Machine Learning and Data Mining: Assignment 1\n",
    "<div style=\"text-align: right\"> Due: Friday week 7 - Fri 24 Sep 2021 11:59PM </div>"
   ]
  },
  {
   "cell_type": "markdown",
   "metadata": {
    "nbpresent": {
     "id": "375753da-1c6c-4b02-986a-6e3b185a5869"
    }
   },
   "source": [
    "# 1. Summary\n",
    "The goal of this assignment is to build a classifier to classify some grayscale images of the size 28x28 into a set of categories. The dimension of the original data is large, so you need to be smart on which method you gonna use and perhaps perform a pre-processing step to reduce the amount of computation. Part of your marks will be a function of the performance of your classifier on the test set."
   ]
  },
  {
   "cell_type": "markdown",
   "metadata": {},
   "source": [
    "# 2. Dataset description\n",
    "The dataset can be downloaded from Canvas. The dataset consists of a training set of 30,000 examples and a test set of 5,000 examples. They belong to 10 different categories. The validation set is not provided, but you can randomly pick a subset of the training set for validation. The labels of the first 2,000 test examples are given, you will analyse the performance of your proposed method by exploiting the 2,000 test examples. It is NOT allowed to use any examples from the test set for training; or it will be considered as cheating. The rest 3,000 labels of the test set are reserved for marking purpose. <br />\n",
    "Here are examples illustrating sample of the dataset (each class takes one row):"
   ]
  },
  {
   "cell_type": "markdown",
   "metadata": {},
   "source": [
    "<img src=\"Dataset_image.jpg\" alt=\"DataSet\" title=\"DataSet\" width=\"450\" height=\"300\" />"
   ]
  },
  {
   "cell_type": "markdown",
   "metadata": {},
   "source": [
    "There are 10 classes in total:<br />\n",
    "0 T-shirt/Top<br />\n",
    "1 Trouser<br />\n",
    "2 Pullover<br />\n",
    "3 Dress<br />\n",
    "4 Coat<br />\n",
    "5 Sandal<br />\n",
    "6 Shirt<br />\n",
    "7 Sneaker<br />\n",
    "8 Bag<br />\n",
    "9 Ankle boot <br />"
   ]
  },
  {
   "cell_type": "markdown",
   "metadata": {},
   "source": [
    "# 3. How to load the data and make output prediciton\n",
    "There is a Input folder including 4 main files (which can be downloaded from Canvas):\n",
    "\n",
    "    1. images_training.h5 (30000 image samples for training)\n",
    "    \n",
    "    2. labels_training.h5 (30000 image lables for training)\n",
    "    \n",
    "    3. images_testing.h5 (5000 image samples for making prediction)\n",
    "    \n",
    "    4. labels_testing_2000.h5 (only 2000 image lables for testing, 3000 labels are not provided)"
   ]
  },
  {
   "cell_type": "markdown",
   "metadata": {},
   "source": [
    "## 3.1 How to load the data"
   ]
  },
  {
   "cell_type": "markdown",
   "metadata": {},
   "source": [
    "To read the *hdf5* file and load the data into a numpy array. \n",
    "\n",
    "The **training data files are in the ./Input/train** and **testing data file are in ./Input/test**. <br /> Use the following code:"
   ]
  },
  {
   "cell_type": "markdown",
   "metadata": {},
   "source": [
    "Then data would be a numpy array of the shape (30000, 784), and label would be a numpy array of the shape (30000, ).\n",
    "\n",
    "It is noted that the **labels_testing_2000** only contain **2000 samples** for your self-testing. The validation test for **fine-tuning parameters** should be splitted from the training test. We will evaluate your model on full 5000 samples which is not provided. The file **images_testing.h5** can be loaded in a similar way."
   ]
  },
  {
   "cell_type": "code",
   "execution_count": 1,
   "metadata": {},
   "outputs": [
    {
     "name": "stdout",
     "output_type": "stream",
     "text": [
      "['images_training.h5', 'labels_training.h5']\n"
     ]
    }
   ],
   "source": [
    "import h5py\n",
    "import numpy as np\n",
    "import os\n",
    "print(os.listdir(\"./Input/train\"))#setwd() dict"
   ]
  },
  {
   "cell_type": "code",
   "execution_count": 2,
   "metadata": {},
   "outputs": [
    {
     "name": "stdout",
     "output_type": "stream",
     "text": [
      "(30000, 784) (30000,) (5000, 784) (2000,)\n"
     ]
    }
   ],
   "source": [
    "with h5py.File('./Input/train/images_training.h5','r') as H: #784 = 28*28\n",
    "    data_train = np.copy(H['datatrain'])\n",
    "with h5py.File('./Input/train/labels_training.h5','r') as H:\n",
    "    label_train = np.copy(H['labeltrain'])\n",
    "with h5py.File('./Input/test/images_testing.h5','r') as H:\n",
    "    data_test = np.copy(H['datatest'])\n",
    "with h5py.File('./Input/test/labels_testing_2000.h5','r') as H:\n",
    "    label_test = np.copy(H['labeltest'])\n",
    "\n",
    "# using H['datatest'], H['labeltest'] for test dataset.\n",
    "print(data_train.shape,label_train.shape,data_test.shape,label_test.shape)"
   ]
  },
  {
   "cell_type": "markdown",
   "metadata": {
    "nbpresent": {
     "id": "1e4a01db-cd92-48f8-bdaa-21c39456cfcb"
    }
   },
   "source": [
    "# 4. Task description\n",
    "\n",
    "Your task is to determine / build a classifier for the given data set to classify images into categories and write a report. The score allocation is as follows:\n",
    "\n",
    "    * Code: max 65 points\n",
    "    * Report: max 35 points\n",
    "    \n",
    "Please refer to the rubric in Canvas for detailed marking scheme. The report and the code are to be submitted in Canvas by the due date.<br />"
   ]
  },
  {
   "cell_type": "markdown",
   "metadata": {},
   "source": [
    "## 4.1 Code\n",
    "### The code must clearly show :\n",
    "    1. Pre-process data\n",
    "    1. Details of your implementation for each algorithm\n",
    "    2. Fine-tune hyper-parameters for each algorithm and running time\n",
    "    3. The comparison result between algorithms\n",
    "    4. Hardware and software specifications of the computer that you used for performance evaluation"
   ]
  },
  {
   "cell_type": "markdown",
   "metadata": {},
   "source": [
    "### 4.1.1 Data pre-processing"
   ]
  },
  {
   "cell_type": "markdown",
   "metadata": {},
   "source": [
    "You will need to have at least one pre-process techique before you can apply the classification algorithms. One of pre-process techique is using **Normalisation**."
   ]
  },
  {
   "cell_type": "code",
   "execution_count": 3,
   "metadata": {},
   "outputs": [],
   "source": [
    "from sklearn.model_selection import train_test_split\n",
    "X = data_train #from above whole data, for training\n",
    "y = label_train #from above whole label, for training\n",
    "X_train, X_test, y_train, y_test = train_test_split(data_train, label_train, test_size=0.3)\n",
    "\n",
    "X_predict = data_test[:2000] #for validation 2000 data\n",
    "#X_output = data_test[2000:]#for result and output h5 files 3000 data\n",
    "X_output = data_test\n",
    "\n",
    "#X_train = data_train\n",
    "#y_train = label_train\n",
    "#y_test = label_test\n",
    "#X_train = X_train.reshape(30000, -1)\n"
   ]
  },
  {
   "cell_type": "code",
   "execution_count": 4,
   "metadata": {},
   "outputs": [],
   "source": [
    "#Normalize the Data (mean = 0 and variance = 1) y=mx+b\n",
    "from sklearn.preprocessing import MinMaxScaler\n",
    "scaler = MinMaxScaler()\n",
    "scaler.fit(X_train)\n",
    "\n",
    "X_norm = scaler.transform(X) \n",
    "X_train_norm = scaler.transform(X_train) \n",
    "X_test_norm = scaler.transform(X_test) \n",
    "X_predict_norm =  scaler.transform(X_predict) \n",
    "X_output_norm =  scaler.transform(X_output) \n"
   ]
  },
  {
   "cell_type": "code",
   "execution_count": 5,
   "metadata": {
    "scrolled": true
   },
   "outputs": [
    {
     "data": {
      "image/png": "[encoded data removed]",
      "text/plain": [
       "<Figure size 432x288 with 1 Axes>"
      ]
     },
     "metadata": {
      "needs_background": "light"
     },
     "output_type": "display_data"
    }
   ],
   "source": [
    "#PCA Analysis \n",
    "from sklearn.decomposition import PCA\n",
    "import matplotlib.pyplot as plt\n",
    "\n",
    "pca = PCA()\n",
    "\n",
    "X_pca = pca.fit_transform(X_norm)\n",
    "X_train = pca.transform(X_train_norm)\n",
    "X_test = pca.transform(X_test_norm)\n",
    "X_predict = pca.transform(X_predict_norm)\n",
    "X_output = pca.transform(X_output_norm) #784 vairble per data\n",
    "\n",
    "#plot out the pca analysis graph\n",
    "f = plt.figure()\n",
    "plt.plot(np.cumsum(pca.explained_variance_ratio_))\n",
    "plt.xlabel('number of components')\n",
    "plt.ylabel('cumulative explained variance')\n",
    "plt.grid(True)"
   ]
  },
  {
   "cell_type": "code",
   "execution_count": 6,
   "metadata": {},
   "outputs": [],
   "source": [
    "#choose 188 as the elbow point where the data explain around 95% of the total variance\n",
    "pca = PCA(n_components=0.95) #95% total variance\n",
    "X_pca = pca.fit_transform(X) #188 variable per data\n",
    "X_train_pca = pca.transform(X_train_norm)\n",
    "X_test_pca = pca.transform(X_test_norm)\n",
    "X_predict_pca = pca.transform(X_predict_norm)\n",
    "X_output_pca = pca.transform(X_output_norm)\n"
   ]
  },
  {
   "cell_type": "markdown",
   "metadata": {},
   "source": [
    "### 4.1.2 Classification algorithms with 10-fold cross-validation"
   ]
  },
  {
   "cell_type": "markdown",
   "metadata": {},
   "source": [
    "You will now apply multiple classifiers to the pre-processed dataset. You have to implement at least 3 classifiers in particular:\n",
    "\n",
    "    * Nearest Neighbor\n",
    "    * Logistic Regression\n",
    "    * Naïve Bayes \n",
    "    * Decision Tree\n",
    "    * Bagging\n",
    "    * Ada Boost\n",
    "    * SVM\n",
    "    \n",
    "You need to evaluate the performance of these classifiers using 10-fold cross-validation. For binary classifiers, we can use those classifiers for the data which has more than 2 labels using the one-vs-rest method. The implementation can use sklearn, or can be implemented from scratch."
   ]
  },
  {
   "cell_type": "code",
   "execution_count": 7,
   "metadata": {},
   "outputs": [
    {
     "data": {
      "text/plain": [
       "'\\nfrom sklearn.neighbors import KNeighborsClassifier\\nfrom sklearn.metrics import accuracy_score\\nfrom sklearn.model_selection import cross_val_score\\nimport timeit\\n\\nstart = timeit.default_timer()\\n\\nknn = KNeighborsClassifier()\\nknn.fit(X_train_norm, y_train) #norm pca\\ny_pred_knn = knn.predict(X_test_norm)\\nprint(\"Original data - knn accuracy: {:.3f}\".format(accuracy_score(y_test,y_pred_knn)))\\n#normal_scores = cross_val_score(knn, X_norm, y, cv=10, scoring=\\'accuracy\\')\\n\\nknn = KNeighborsClassifier()\\nknn.fit(X_train_pca, y_train)\\ny_pred_pca_knn = knn.predict(X_test_pca)\\nprint(\"Reduced data - knn accuracy: {:.3f}\".format(accuracy_score(y_test,y_pred_pca_knn)))\\npca_scores = cross_val_score(knn, X_pca, y, cv=10, scoring=\\'accuracy\\')\\n\\n#10-fold vialidation\\n#print(\"orginal data - knn accuracy of the 10-fold validation: \",normal_scores)\\nprint(\"Reduced data - knn accuracy of the 10-fold validation: \",pca_scores)\\n\\nstop = timeit.default_timer()\\nprint(\\'Time: \\', stop - start) \\n'"
      ]
     },
     "execution_count": 7,
     "metadata": {},
     "output_type": "execute_result"
    }
   ],
   "source": [
    "#knn model data all comes from train folder\n",
    "\"\"\"\n",
    "from sklearn.neighbors import KNeighborsClassifier\n",
    "from sklearn.metrics import accuracy_score\n",
    "from sklearn.model_selection import cross_val_score\n",
    "import timeit\n",
    "\n",
    "start = timeit.default_timer()\n",
    "\n",
    "knn = KNeighborsClassifier()\n",
    "knn.fit(X_train_norm, y_train) #norm pca\n",
    "y_pred_knn = knn.predict(X_test_norm)\n",
    "print(\"Original data - knn accuracy: {:.3f}\".format(accuracy_score(y_test,y_pred_knn)))\n",
    "#normal_scores = cross_val_score(knn, X_norm, y, cv=10, scoring='accuracy')\n",
    "\n",
    "knn = KNeighborsClassifier()\n",
    "knn.fit(X_train_pca, y_train)\n",
    "y_pred_pca_knn = knn.predict(X_test_pca)\n",
    "print(\"Reduced data - knn accuracy: {:.3f}\".format(accuracy_score(y_test,y_pred_pca_knn)))\n",
    "pca_scores = cross_val_score(knn, X_pca, y, cv=10, scoring='accuracy')\n",
    "\n",
    "#10-fold vialidation\n",
    "#print(\"orginal data - knn accuracy of the 10-fold validation: \",normal_scores)\n",
    "print(\"Reduced data - knn accuracy of the 10-fold validation: \",pca_scores)\n",
    "\n",
    "stop = timeit.default_timer()\n",
    "print('Time: ', stop - start) \n",
    "\"\"\""
   ]
  },
  {
   "cell_type": "code",
   "execution_count": 8,
   "metadata": {},
   "outputs": [
    {
     "data": {
      "text/plain": [
       "'\\nfrom sklearn.tree import DecisionTreeClassifier\\nfrom sklearn.metrics import accuracy_score\\nfrom sklearn.model_selection import cross_val_score\\nimport timeit\\n\\nstart = timeit.default_timer()\\n\\ntree = DecisionTreeClassifier(criterion=\\'entropy\\')\\ntree.fit(X_train_norm, y_train)\\ny_pred_tree = tree.predict(X_test_norm)\\nprint(\"Original data - tree accuracy: {:.3f}\".format(accuracy_score(y_test,y_pred_tree)))\\n#normal_scores = cross_val_score(tree, X_norm, y, cv=10, scoring=\\'accuracy\\')\\n\\ntree = DecisionTreeClassifier(criterion=\\'entropy\\')\\ntree.fit(X_train_pca, y_train)\\ny_pred_pca_tree = tree.predict(X_test_pca)\\nprint(\"Reduced data - tree accuracy: {:.3f}\".format(accuracy_score(y_test,y_pred_pca_tree)))\\npca_scores = cross_val_score(tree, X_pca, y, cv=10, scoring=\\'accuracy\\')\\n\\n#10-fold vialidation\\n#print(\"orginal data - Decision Tree accuracy of the 10-fold validation: \",normal_scores)\\nprint(\"Reduced data - Decision Tree accuracy of the 10-fold validation: \",pca_scores)\\n\\nstop = timeit.default_timer()\\nprint(\\'Time: \\', stop - start) \\n'"
      ]
     },
     "execution_count": 8,
     "metadata": {},
     "output_type": "execute_result"
    }
   ],
   "source": [
    "#Decision Tree\n",
    "\"\"\"\n",
    "from sklearn.tree import DecisionTreeClassifier\n",
    "from sklearn.metrics import accuracy_score\n",
    "from sklearn.model_selection import cross_val_score\n",
    "import timeit\n",
    "\n",
    "start = timeit.default_timer()\n",
    "\n",
    "tree = DecisionTreeClassifier(criterion='entropy')\n",
    "tree.fit(X_train_norm, y_train)\n",
    "y_pred_tree = tree.predict(X_test_norm)\n",
    "print(\"Original data - tree accuracy: {:.3f}\".format(accuracy_score(y_test,y_pred_tree)))\n",
    "#normal_scores = cross_val_score(tree, X_norm, y, cv=10, scoring='accuracy')\n",
    "\n",
    "tree = DecisionTreeClassifier(criterion='entropy')\n",
    "tree.fit(X_train_pca, y_train)\n",
    "y_pred_pca_tree = tree.predict(X_test_pca)\n",
    "print(\"Reduced data - tree accuracy: {:.3f}\".format(accuracy_score(y_test,y_pred_pca_tree)))\n",
    "pca_scores = cross_val_score(tree, X_pca, y, cv=10, scoring='accuracy')\n",
    "\n",
    "#10-fold vialidation\n",
    "#print(\"orginal data - Decision Tree accuracy of the 10-fold validation: \",normal_scores)\n",
    "print(\"Reduced data - Decision Tree accuracy of the 10-fold validation: \",pca_scores)\n",
    "\n",
    "stop = timeit.default_timer()\n",
    "print('Time: ', stop - start) \n",
    "\"\"\""
   ]
  },
  {
   "cell_type": "code",
   "execution_count": 9,
   "metadata": {},
   "outputs": [
    {
     "name": "stdout",
     "output_type": "stream",
     "text": [
      "Original data - SVM accuracy: 0.878\n",
      "Reduced data - SVM accuracy: 0.885\n",
      "Reduced data - Decision Tree accuracy of the 10-fold validation:  [0.87833333 0.88766667 0.87833333 0.883      0.89766667 0.888\n",
      " 0.89166667 0.88133333 0.893      0.9       ]\n",
      "Time:  310.8170769\n"
     ]
    }
   ],
   "source": [
    "#SVM\n",
    "from sklearn.svm import SVC\n",
    "from sklearn.model_selection import cross_val_score\n",
    "from sklearn.metrics import accuracy_score\n",
    "import timeit\n",
    "\n",
    "start = timeit.default_timer()\n",
    "\n",
    "svm = SVC()\n",
    "svm.fit(X_train_norm, y_train)\n",
    "y_pred_svm = svm.predict(X_test_norm)\n",
    "print(\"Original data - SVM accuracy: {:.3f}\".format(accuracy_score(y_test,y_pred_svm)))\n",
    "#normal_scores = cross_val_score(svm, X_norm, y, cv=10, scoring='accuracy')\n",
    "\n",
    "svm = SVC()\n",
    "svm.fit(X_train_pca, y_train)\n",
    "y_pred_pca_svm = svm.predict(X_test_pca)\n",
    "print(\"Reduced data - SVM accuracy: {:.3f}\".format(accuracy_score(y_test,y_pred_pca_svm)))\n",
    "pca_scores = cross_val_score(svm, X_pca, y, cv=10, scoring='accuracy')\n",
    "\n",
    "#10-fold vialidation\n",
    "\n",
    "#print(\"orginal data - Decision Tree accuracy of the 10-fold validation: \",normal_scores)\n",
    "print(\"Reduced data - Decision Tree accuracy of the 10-fold validation: \",pca_scores)\n",
    "\n",
    "stop = timeit.default_timer()\n",
    "print('Time: ', stop - start)  "
   ]
  },
  {
   "cell_type": "markdown",
   "metadata": {},
   "source": [
    "### 4.1.3 Parameter Tuning"
   ]
  },
  {
   "cell_type": "markdown",
   "metadata": {},
   "source": [
    "For each classifiers we would like to find the best parameters using grid search with 10-fold stratified cross validation.\n",
    "\n",
    "- SVM\n",
    "- Decision Tree\n",
    "- Logistic \n",
    "- KNN"
   ]
  },
  {
   "cell_type": "code",
   "execution_count": 10,
   "metadata": {},
   "outputs": [
    {
     "data": {
      "text/plain": [
       "'\\nfrom sklearn.model_selection import GridSearchCV\\nparam_grid = {\\n    \\'n_neighbors\\':[2,4,6,8,10,12,14,16],\\n}\\nknn_grid_search = GridSearchCV(knn,param_grid,cv=10,return_train_score=True,n_jobs=-1)\\nknn_grid_search.fit(X_pca,y)\\n#y_pred_grid = grid_search.predict(X_test_norm)\\n\\nprint(\"Grid search best accuraccy on ttest set:{:3f}\".format(knn_grid_search.score(X_pca, y)))\\nprint(\"Best parameters:{}\".format(knn_grid_search.best_params_))\\nprint(\"Best cv score:{}\".format(knn_grid_search.best_score_))\\nprint(\"Best estimator:\\n{}\".format(knn_grid_search.best_estimator_))\\n'"
      ]
     },
     "execution_count": 10,
     "metadata": {},
     "output_type": "execute_result"
    }
   ],
   "source": [
    "#knn best n = 8\n",
    "\"\"\"\n",
    "from sklearn.model_selection import GridSearchCV\n",
    "param_grid = {\n",
    "    'n_neighbors':[2,4,6,8,10,12,14,16],\n",
    "}\n",
    "knn_grid_search = GridSearchCV(knn,param_grid,cv=10,return_train_score=True,n_jobs=-1)\n",
    "knn_grid_search.fit(X_pca,y)\n",
    "#y_pred_grid = grid_search.predict(X_test_norm)\n",
    "\n",
    "print(\"Grid search best accuraccy on ttest set:{:3f}\".format(knn_grid_search.score(X_pca, y)))\n",
    "print(\"Best parameters:{}\".format(knn_grid_search.best_params_))\n",
    "print(\"Best cv score:{}\".format(knn_grid_search.best_score_))\n",
    "print(\"Best estimator:\\n{}\".format(knn_grid_search.best_estimator_))\n",
    "\"\"\""
   ]
  },
  {
   "cell_type": "code",
   "execution_count": 11,
   "metadata": {},
   "outputs": [
    {
     "data": {
      "text/plain": [
       "'\\nfor mean_score, rank, params in zip(knn_grid_search.cv_results_[\\'mean_test_score\\'],\\n                                   knn_grid_search.cv_results_[\\'rank_test_score\\'],\\n                                   knn_grid_search.cv_results_[\\'params\\']):\\n    print(\"Mean test score is {:0.3f}, and rank is {:0.0f} for {}\".format(\\n            mean_score, rank, params))\\n'"
      ]
     },
     "execution_count": 11,
     "metadata": {},
     "output_type": "execute_result"
    }
   ],
   "source": [
    "\"\"\"\n",
    "for mean_score, rank, params in zip(knn_grid_search.cv_results_['mean_test_score'],\n",
    "                                   knn_grid_search.cv_results_['rank_test_score'],\n",
    "                                   knn_grid_search.cv_results_['params']):\n",
    "    print(\"Mean test score is {:0.3f}, and rank is {:0.0f} for {}\".format(\n",
    "            mean_score, rank, params))\n",
    "\"\"\""
   ]
  },
  {
   "cell_type": "code",
   "execution_count": 12,
   "metadata": {},
   "outputs": [
    {
     "data": {
      "text/plain": [
       "'\\nparam_grid = {\\n    \\'n_neighbors\\':[2,4,6,8,10,12,14,16],\\n}\\nscores = knn_grid_search.cv_results_[\\'mean_test_score\\']\\nplt.plot(param_grid[\\'n_neighbors\\'],scores,color=\\'blue\\', linestyle=\\'solid\\', marker=\\'o\\',\\n     markerfacecolor=\\'red\\', markersize=7)\\n\\nplt.title(\"KNN - Grid Search Scores\", fontsize=16)\\nplt.xlabel(\\'n_neighbors\\')\\nplt.ylabel(\\'Mean test score\\')\\nplt.grid(True)\\nplt.show()\\n'"
      ]
     },
     "execution_count": 12,
     "metadata": {},
     "output_type": "execute_result"
    }
   ],
   "source": [
    "\"\"\"\n",
    "param_grid = {\n",
    "    'n_neighbors':[2,4,6,8,10,12,14,16],\n",
    "}\n",
    "scores = knn_grid_search.cv_results_['mean_test_score']\n",
    "plt.plot(param_grid['n_neighbors'],scores,color='blue', linestyle='solid', marker='o',\n",
    "     markerfacecolor='red', markersize=7)\n",
    "\n",
    "plt.title(\"KNN - Grid Search Scores\", fontsize=16)\n",
    "plt.xlabel('n_neighbors')\n",
    "plt.ylabel('Mean test score')\n",
    "plt.grid(True)\n",
    "plt.show()\n",
    "\"\"\""
   ]
  },
  {
   "cell_type": "code",
   "execution_count": 13,
   "metadata": {},
   "outputs": [
    {
     "data": {
      "text/plain": [
       "'\\nfrom sklearn.model_selection import GridSearchCV\\nparam_grid = {\\n    \\'criterion\\':[\\'entropy\\'],\\n    \\'max_depth\\': [3,7,11,15,19,23],\\n    \\'splitter\\':[\\'best\\',\\'random\\']\\n}\\ntree_grid_search = GridSearchCV(tree,param_grid,cv=10,return_train_score=True,n_jobs=-1)\\ntree_grid_search.fit(X_pca,y)\\n#y_pred_grid = grid_search.predict(X_test_norm)\\nprint(\"Grid search best accuraccy on ttest set:{:3f}\".format(tree_grid_search.score(X_pca, y)))\\nprint(\"Best parameters:{}\".format(tree_grid_search.best_params_))\\nprint(\"Best cv score:{}\".format(tree_grid_search.best_score_))\\nprint(\"Best estimator:\\n{}\".format(tree_grid_search.best_estimator_))\\n'"
      ]
     },
     "execution_count": 13,
     "metadata": {},
     "output_type": "execute_result"
    }
   ],
   "source": [
    "#decision tree\n",
    "\"\"\"\n",
    "from sklearn.model_selection import GridSearchCV\n",
    "param_grid = {\n",
    "    'criterion':['entropy'],\n",
    "    'max_depth': [3,7,11,15,19,23],\n",
    "    'splitter':['best','random']\n",
    "}\n",
    "tree_grid_search = GridSearchCV(tree,param_grid,cv=10,return_train_score=True,n_jobs=-1)\n",
    "tree_grid_search.fit(X_pca,y)\n",
    "#y_pred_grid = grid_search.predict(X_test_norm)\n",
    "print(\"Grid search best accuraccy on ttest set:{:3f}\".format(tree_grid_search.score(X_pca, y)))\n",
    "print(\"Best parameters:{}\".format(tree_grid_search.best_params_))\n",
    "print(\"Best cv score:{}\".format(tree_grid_search.best_score_))\n",
    "print(\"Best estimator:\\n{}\".format(tree_grid_search.best_estimator_))\n",
    "\"\"\""
   ]
  },
  {
   "cell_type": "code",
   "execution_count": 14,
   "metadata": {},
   "outputs": [
    {
     "data": {
      "text/plain": [
       "'\\nfor mean_score, rank, params in zip(tree_grid_search.cv_results_[\\'mean_test_score\\'],\\n                                   tree_grid_search.cv_results_[\\'rank_test_score\\'],\\n                                   tree_grid_search.cv_results_[\\'params\\']):\\n    print(\"Mean test score is {:0.3f}, and rank is {:0.0f}) for {}\".format(\\n            mean_score, rank, params))\\n'"
      ]
     },
     "execution_count": 14,
     "metadata": {},
     "output_type": "execute_result"
    }
   ],
   "source": [
    "\"\"\"\n",
    "for mean_score, rank, params in zip(tree_grid_search.cv_results_['mean_test_score'],\n",
    "                                   tree_grid_search.cv_results_['rank_test_score'],\n",
    "                                   tree_grid_search.cv_results_['params']):\n",
    "    print(\"Mean test score is {:0.3f}, and rank is {:0.0f}) for {}\".format(\n",
    "            mean_score, rank, params))\n",
    "\"\"\""
   ]
  },
  {
   "cell_type": "code",
   "execution_count": 15,
   "metadata": {},
   "outputs": [
    {
     "data": {
      "text/plain": [
       "'\\nparam_grid = {\\n    \\'criterion\\':[\\'entropy\\'],\\n    \\'max_depth\\': [3,7,11,15,19,23],\\n    \\'splitter\\':[\\'best\\',\\'random\\']\\n}\\n\\nscores = tree_grid_search.cv_results_[\\'mean_test_score\\']\\nbest,random = scores[::2], scores[1::2]\\nscores = [best,random]\\n\\nfor ind, i in enumerate(param_grid[\\'splitter\\']):\\n    plt.plot(param_grid[\\'max_depth\\'], scores[ind], label=\\'criterion: \\' + str(i))\\nplt.legend()\\nplt.title(\"Decision Tree - Grid Search Scores\", fontsize=16)\\nplt.xlabel(\\'Max Depth\\')\\nplt.ylabel(\\'Mean test score\\')\\nplt.grid(True)\\nplt.show()\\n'"
      ]
     },
     "execution_count": 15,
     "metadata": {},
     "output_type": "execute_result"
    }
   ],
   "source": [
    "\"\"\"\n",
    "param_grid = {\n",
    "    'criterion':['entropy'],\n",
    "    'max_depth': [3,7,11,15,19,23],\n",
    "    'splitter':['best','random']\n",
    "}\n",
    "\n",
    "scores = tree_grid_search.cv_results_['mean_test_score']\n",
    "best,random = scores[::2], scores[1::2]\n",
    "scores = [best,random]\n",
    "\n",
    "for ind, i in enumerate(param_grid['splitter']):\n",
    "    plt.plot(param_grid['max_depth'], scores[ind], label='criterion: ' + str(i))\n",
    "plt.legend()\n",
    "plt.title(\"Decision Tree - Grid Search Scores\", fontsize=16)\n",
    "plt.xlabel('Max Depth')\n",
    "plt.ylabel('Mean test score')\n",
    "plt.grid(True)\n",
    "plt.show()\n",
    "\"\"\""
   ]
  },
  {
   "cell_type": "code",
   "execution_count": 16,
   "metadata": {},
   "outputs": [
    {
     "data": {
      "text/plain": [
       "'\\nfrom sklearn.model_selection import GridSearchCV\\nparam_grid = {\\n    \\'kernel\\': [\\'rbf\\',\\'linear\\'],\\n    \\'C\\':[5,7,9,11,13],\\n    \\'gamma\\':[\\'scale\\']\\n}\\n#gamma = 1 / (n_features * X.var())\\nsvm_grid_search = GridSearchCV(svm,param_grid,cv=10,return_train_score=True,n_jobs=-1)\\nsvm_grid_search.fit(X_pca,y)#X_pca 30000, 188 y:30000,(1)\\n#y_pred_grid = grid_search.predict(X_test_norm)\\nprint(\"Grid search best accuraccy on ttest set:{:3f}\".format(svm_grid_search.score(X_pca, y)))\\nprint(\"Best parameters:{}\".format(svm_grid_search.best_params_))\\nprint(\"Best cv score:{}\".format(svm_grid_search.best_score_))\\nprint(\"Best estimator:\\n{}\".format(svm_grid_search.best_estimator_))\\n'"
      ]
     },
     "execution_count": 16,
     "metadata": {},
     "output_type": "execute_result"
    }
   ],
   "source": [
    "#svm\n",
    "#best accuracy is 88.6%, Best parameters:{'C': 6, 'gamma': 'scale', 'kernel': 'rbf'}\n",
    "#gamma = 0.03,0.035,0.04,0.045,0.05 -> 0.035\n",
    "\"\"\"\n",
    "from sklearn.model_selection import GridSearchCV\n",
    "param_grid = {\n",
    "    'kernel': ['rbf','linear'],\n",
    "    'C':[5,7,9,11,13],\n",
    "    'gamma':['scale']\n",
    "}\n",
    "#gamma = 1 / (n_features * X.var())\n",
    "svm_grid_search = GridSearchCV(svm,param_grid,cv=10,return_train_score=True,n_jobs=-1)\n",
    "svm_grid_search.fit(X_pca,y)#X_pca 30000, 188 y:30000,(1)\n",
    "#y_pred_grid = grid_search.predict(X_test_norm)\n",
    "print(\"Grid search best accuraccy on ttest set:{:3f}\".format(svm_grid_search.score(X_pca, y)))\n",
    "print(\"Best parameters:{}\".format(svm_grid_search.best_params_))\n",
    "print(\"Best cv score:{}\".format(svm_grid_search.best_score_))\n",
    "print(\"Best estimator:\\n{}\".format(svm_grid_search.best_estimator_))\n",
    "\"\"\""
   ]
  },
  {
   "cell_type": "code",
   "execution_count": 17,
   "metadata": {},
   "outputs": [
    {
     "data": {
      "text/plain": [
       "'\\nfor mean_score, rank, params in zip(svm_grid_search.cv_results_[\\'mean_test_score\\'],\\n                                   svm_grid_search.cv_results_[\\'rank_test_score\\'],\\n                                   svm_grid_search.cv_results_[\\'params\\']):\\n    print(\"Mean test score is {:0.3f}, and rank is {:0.0f} for {}\".format(\\n            mean_score, rank, params))\\n'"
      ]
     },
     "execution_count": 17,
     "metadata": {},
     "output_type": "execute_result"
    }
   ],
   "source": [
    "\"\"\"\n",
    "for mean_score, rank, params in zip(svm_grid_search.cv_results_['mean_test_score'],\n",
    "                                   svm_grid_search.cv_results_['rank_test_score'],\n",
    "                                   svm_grid_search.cv_results_['params']):\n",
    "    print(\"Mean test score is {:0.3f}, and rank is {:0.0f} for {}\".format(\n",
    "            mean_score, rank, params))\n",
    "\"\"\""
   ]
  },
  {
   "cell_type": "code",
   "execution_count": 18,
   "metadata": {},
   "outputs": [
    {
     "data": {
      "text/plain": [
       "'\\nparam_grid = {\\n    \\'kernel\\': [\\'rbf\\',\\'linear\\'],\\n    \\'C\\':[5,7,9,11,13],\\n    \\'gamma\\':[\\'scale\\']\\n}\\nscores = svm_grid_search.cv_results_[\\'mean_test_score\\']\\nrbf,linear = scores[::2], scores[1::2]\\nscores = [rbf,linear]\\n#plt.plot(param_grid[\\'max_depth\\'],scores,color=\\'blue\\', linestyle=\\'solid\\', marker=\\'o\\',markerfacecolor=\\'red\\', markersize=7)\\n\\nfor ind, i in enumerate(param_grid[\\'kernel\\']):\\n    plt.plot(param_grid[\\'C\\'], scores[ind], label=\\'criterion: \\' + str(i))\\nplt.legend()\\nplt.title(\"SVM - Grid Search Scores\", fontsize=16)\\nplt.xlabel(\\'C Value\\')\\nplt.ylabel(\\'Mean test score\\')\\nplt.grid(True)\\nplt.show()\\n'"
      ]
     },
     "execution_count": 18,
     "metadata": {},
     "output_type": "execute_result"
    }
   ],
   "source": [
    "\"\"\"\n",
    "param_grid = {\n",
    "    'kernel': ['rbf','linear'],\n",
    "    'C':[5,7,9,11,13],\n",
    "    'gamma':['scale']\n",
    "}\n",
    "scores = svm_grid_search.cv_results_['mean_test_score']\n",
    "rbf,linear = scores[::2], scores[1::2]\n",
    "scores = [rbf,linear]\n",
    "#plt.plot(param_grid['max_depth'],scores,color='blue', linestyle='solid', marker='o',markerfacecolor='red', markersize=7)\n",
    "\n",
    "for ind, i in enumerate(param_grid['kernel']):\n",
    "    plt.plot(param_grid['C'], scores[ind], label='criterion: ' + str(i))\n",
    "plt.legend()\n",
    "plt.title(\"SVM - Grid Search Scores\", fontsize=16)\n",
    "plt.xlabel('C Value')\n",
    "plt.ylabel('Mean test score')\n",
    "plt.grid(True)\n",
    "plt.show()\n",
    "\"\"\""
   ]
  },
  {
   "cell_type": "markdown",
   "metadata": {},
   "source": [
    "### 4.1.4 Classifier comparisons"
   ]
  },
  {
   "cell_type": "markdown",
   "metadata": {},
   "source": [
    "After finding the best parameter for each algorithm, we would like to make comparisons between all classifiers using their own best hyper-parameters."
   ]
  },
  {
   "cell_type": "code",
   "execution_count": 19,
   "metadata": {},
   "outputs": [
    {
     "data": {
      "text/plain": [
       "'\\nfrom sklearn.neighbors import KNeighborsClassifier\\nfrom sklearn.metrics import accuracy_score\\nfrom sklearn.model_selection import cross_val_score\\nimport timeit\\n\\nstart = timeit.default_timer()\\n\\nknn = KNeighborsClassifier(n_neighbors=8)\\nknn.fit(X_train_pca, y_train)\\n\\ny_pred_train_knn = knn.predict(X_pca)\\nprint(\"Training Set - knn accuracy: {:.3f}\".format(accuracy_score(label_train,y_pred_train_knn)))\\n\\ny_pred_test_knn = knn.predict(X_predict_pca)\\nprint(\"Testing Set - knn accuracy: {:.3f}\".format(accuracy_score(label_test,y_pred_test_knn)))\\n\\nstop = timeit.default_timer()\\nprint(\\'Time: \\', stop - start)  \\n'"
      ]
     },
     "execution_count": 19,
     "metadata": {},
     "output_type": "execute_result"
    }
   ],
   "source": [
    "#knn model\n",
    "\"\"\"\n",
    "from sklearn.neighbors import KNeighborsClassifier\n",
    "from sklearn.metrics import accuracy_score\n",
    "from sklearn.model_selection import cross_val_score\n",
    "import timeit\n",
    "\n",
    "start = timeit.default_timer()\n",
    "\n",
    "knn = KNeighborsClassifier(n_neighbors=8)\n",
    "knn.fit(X_train_pca, y_train)\n",
    "\n",
    "y_pred_train_knn = knn.predict(X_pca)\n",
    "print(\"Training Set - knn accuracy: {:.3f}\".format(accuracy_score(label_train,y_pred_train_knn)))\n",
    "\n",
    "y_pred_test_knn = knn.predict(X_predict_pca)\n",
    "print(\"Testing Set - knn accuracy: {:.3f}\".format(accuracy_score(label_test,y_pred_test_knn)))\n",
    "\n",
    "stop = timeit.default_timer()\n",
    "print('Time: ', stop - start)  \n",
    "\"\"\""
   ]
  },
  {
   "cell_type": "code",
   "execution_count": 20,
   "metadata": {},
   "outputs": [
    {
     "data": {
      "text/plain": [
       "'\\nfrom sklearn.tree import DecisionTreeClassifier\\nfrom sklearn.metrics import accuracy_score\\nfrom sklearn.model_selection import cross_val_score\\nimport timeit\\n\\nstart = timeit.default_timer()\\n\\ntree = DecisionTreeClassifier(criterion=\\'entropy\\', max_depth=11)\\ntree.fit(X_train_pca, y_train)\\n\\ny_pred_train_tree = tree.predict(X_pca)\\nprint(\"Training Set - tree accuracy: {:.3f}\".format(accuracy_score(label_train,y_pred_train_tree)))\\n\\ny_pred_test_tree = tree.predict(X_predict_pca)\\nprint(\"Testing Set - tree accuracy: {:.3f}\".format(accuracy_score(label_test,y_pred_test_tree)))\\n\\nstop = timeit.default_timer()\\nprint(\\'Time: \\', stop - start)  \\n'"
      ]
     },
     "execution_count": 20,
     "metadata": {},
     "output_type": "execute_result"
    }
   ],
   "source": [
    "#Decision Tree\n",
    "\"\"\"\n",
    "from sklearn.tree import DecisionTreeClassifier\n",
    "from sklearn.metrics import accuracy_score\n",
    "from sklearn.model_selection import cross_val_score\n",
    "import timeit\n",
    "\n",
    "start = timeit.default_timer()\n",
    "\n",
    "tree = DecisionTreeClassifier(criterion='entropy', max_depth=11)\n",
    "tree.fit(X_train_pca, y_train)\n",
    "\n",
    "y_pred_train_tree = tree.predict(X_pca)\n",
    "print(\"Training Set - tree accuracy: {:.3f}\".format(accuracy_score(label_train,y_pred_train_tree)))\n",
    "\n",
    "y_pred_test_tree = tree.predict(X_predict_pca)\n",
    "print(\"Testing Set - tree accuracy: {:.3f}\".format(accuracy_score(label_test,y_pred_test_tree)))\n",
    "\n",
    "stop = timeit.default_timer()\n",
    "print('Time: ', stop - start)  \n",
    "\"\"\""
   ]
  },
  {
   "cell_type": "code",
   "execution_count": 21,
   "metadata": {},
   "outputs": [
    {
     "name": "stdout",
     "output_type": "stream",
     "text": [
      "Training Set - svm accuracy: 0.952\n",
      "Testing Set - svm accuracy: 0.880\n",
      "Time:  51.65474329999995\n"
     ]
    }
   ],
   "source": [
    "#SVM, c=9,gamma=scale -> 88%]\n",
    "\n",
    "from sklearn.svm import SVC\n",
    "from sklearn.metrics import accuracy_score\n",
    "from sklearn.model_selection import cross_val_score\n",
    "import timeit\n",
    "\n",
    "start = timeit.default_timer()\n",
    "\n",
    "svm = SVC(kernel='rbf',C=9,gamma='scale')\n",
    "svm.fit(X_train_pca, y_train)\n",
    "\n",
    "y_pred_train_svm = svm.predict(X_pca)\n",
    "print(\"Training Set - svm accuracy: {:.3f}\".format(accuracy_score(label_train,y_pred_train_svm)))\n",
    "\n",
    "y_pred_test_svm = svm.predict(X_predict_pca)\n",
    "print(\"Testing Set - svm accuracy: {:.3f}\".format(accuracy_score(label_test,y_pred_test_svm)))\n",
    "\n",
    "\n",
    "stop = timeit.default_timer()\n",
    "print('Time: ', stop - start)  "
   ]
  },
  {
   "cell_type": "markdown",
   "metadata": {},
   "source": [
    "Original data - knn accuracy: 0.873\n",
    "Reduced data - knn accuracy: 0.834\n",
    "\n",
    "Original data - tree accuracy: 0.853\n",
    "Reduced data - tree accuracy: 0.756\n",
    "\n",
    "Original data - svm accuracy: 0.951\n",
    "Reduced data - svm accuracy: 0.883\n",
    "\n",
    "the pca svm model shows the best result."
   ]
  },
  {
   "cell_type": "code",
   "execution_count": 22,
   "metadata": {},
   "outputs": [],
   "source": [
    "from sklearn.svm import SVC\n",
    "svm = SVC(kernel='rbf',C=9,gamma='scale')\n",
    "svm.fit(X_train_pca, y_train)\n",
    "y_pred_pca_svm = svm.predict(X_output_pca)\n",
    "\n",
    "#y_output = svm.predict(X_predict)"
   ]
  },
  {
   "cell_type": "code",
   "execution_count": 23,
   "metadata": {},
   "outputs": [
    {
     "data": {
      "text/plain": [
       "'\\nimport matplotlib.pyplot as plt\\nX_output = data_test[2000:]\\nX_output = X_output.reshape((X_output.shape[0], 28, 28))\\nfor i in range(20):\\n    plt.imshow(X_output[i], cmap=plt.get_cmap(\\'gray\\'))\\n    plt.title(\"class \" + str(y_pred_pca_svm[i]))\\n    plt.show()\\n    \\n'"
      ]
     },
     "execution_count": 23,
     "metadata": {},
     "output_type": "execute_result"
    }
   ],
   "source": [
    "\"\"\"\n",
    "import matplotlib.pyplot as plt\n",
    "X_output = data_test[2000:]\n",
    "X_output = X_output.reshape((X_output.shape[0], 28, 28))\n",
    "for i in range(20):\n",
    "    plt.imshow(X_output[i], cmap=plt.get_cmap('gray'))\n",
    "    plt.title(\"class \" + str(y_pred_pca_svm[i]))\n",
    "    plt.show()\n",
    "    \n",
    "\"\"\""
   ]
  },
  {
   "cell_type": "code",
   "execution_count": 24,
   "metadata": {},
   "outputs": [],
   "source": [
    "import numpy as np\n",
    "# assume output is the predicted labels from classifiers\n",
    "# (5000,) .H5 file\n",
    "with h5py.File('Output/predicted_labels.h5','w') as H:\n",
    "    H.create_dataset('Output',data=y_pred_pca_svm)"
   ]
  },
  {
   "cell_type": "markdown",
   "metadata": {},
   "source": [
    "## 4.2 Report"
   ]
  },
  {
   "cell_type": "markdown",
   "metadata": {},
   "source": [
    "### The report must clearly show:\n",
    "    1. Details of your classifiers using for assignment 1\n",
    "    2. The predicted results from your classifier on test examples\n",
    "    3. Results comparison and discussion\n",
    "    4. Following the format in rubric : Introduction -> Methods -> Experiments result and discussion -> Conclusion\n",
    "    5. The maximum length of the report is 10 (including references)\n",
    "    6. Clearly provide instructions on how to run your code in the Appendix section of your report\n",
    "    7. Detail of student including ID, name."
   ]
  },
  {
   "cell_type": "markdown",
   "metadata": {},
   "source": [
    "# 5. Instructions to hand in the assignment\n",
    "\n",
    "### Go to Canvas -> Assignments -> \"Assignment 1\" and submit 3 files only: the report and the code files.\n",
    "\n",
    "1) Report (a .pdf file).\n",
    "\n",
    "2) Code (2 files include: a .ipynb file and a PDF file). PDF is exported from .ipynb file for plagiarism check.\n",
    "The code must be able to be run with the following folder structure:\n",
    "\n",
    "    - Classifiers (the root folder): Your .ipynb file containing Python code will be placed on this folder when we test and run your code. The PDF file is generated from .ipynb file (File => Save as PDF file)\n",
    "    \n",
    "    - Input (a sub-folder under Algorithm): We will copy the dataset into this Input folder when we run your code. Please make sure your code is able to read the dataset from this Input folder.\n",
    "    \n",
    "    - Output (a sub-folder under Algorithm): Your code must be able to generate a prediction file named “predicted_labels.h5” to be saved in this Output folder. The prediction file should contain predicted labels of the test dataset. We will use your prediction output file for grading purpose.\n",
    "\n",
    "Since this is a individual work, each student needs to submit all the files which must be named with student ID numbers following format e.g. **SIDxxxx_report.pdf**,  **SIDxxxx_code.ipynb**, **SIDxxxx_code.ipynb.pdf**."
   ]
  },
  {
   "cell_type": "markdown",
   "metadata": {},
   "source": [
    "### A penalty of MINUS 5 percent (-5%) for each day after the due date. \n",
    "The maximum delay for assignment submission is 5 (five) days, after which assignment will not be accepted.\n",
    "\n",
    "**You should upload your assignment at least half a day or one day prior to the submission deadline to avoid network congestion**.\n",
    "\n",
    "Canvas may not be able to handle a large number of submission happening at the same time. If you submit your assignment at a time close to the deadline, a submission error may occur causing your submission to be considered late. Penalty will be applied to late submission regardless of issues. "
   ]
  },
  {
   "cell_type": "markdown",
   "metadata": {},
   "source": [
    "### All files required for assignment 1 can be downloaded from Canvas -> Assignments -> Assignment 1\n"
   ]
  },
  {
   "cell_type": "markdown",
   "metadata": {},
   "source": [
    "# 6. Academic honesty"
   ]
  },
  {
   "cell_type": "markdown",
   "metadata": {},
   "source": [
    "Please read the University policy on Academic Honesty very carefully: \n",
    "https://sydney.edu.au/students/academic-integrity.html"
   ]
  },
  {
   "cell_type": "markdown",
   "metadata": {},
   "source": [
    "Plagiarism (copying from another student, website or other sources), making your work available to another student to copy, engaging another person to complete the assignments instead of you (for payment or not) are all examples of academic dishonesty. Note that when there is copying between students, both students are penalised – the student who copies and the student who makes his/her work available for copying. The University penalties are severe and include: \n",
    "\n",
    "    * a permanent record of academic dishonesty on your student file, \n",
    "    * mark deduction, ranging from 0 for the assignment to Fail for the course\n",
    "    * expulsion from the University and cancelling of your student visa. \n",
    "\n",
    "In addition, the Australian Government passed a new legislation last year (Prohibiting Academic Cheating Services Bill) that makes it a criminal offence to provide or advertise academic cheating services - the provision or undertaking of work for students which forms a substantial part of a student’s assessment task. Do not confuse legitimate co-operation and cheating! You can discuss the assignment with another student, this is a legitimate collaboration, but you cannot complete the assignment together – this is an individual assignment and everyone must write their own code."
   ]
  }
 ],
 "metadata": {
  "anaconda-cloud": {},
  "kernelspec": {
   "display_name": "Python 3",
   "language": "python",
   "name": "python3"
  },
  "language_info": {
   "codemirror_mode": {
    "name": "ipython",
    "version": 3
   },
   "file_extension": ".py",
   "mimetype": "text/x-python",
   "name": "python",
   "nbconvert_exporter": "python",
   "pygments_lexer": "ipython3",
   "version": "3.8.8"
  }
 },
 "nbformat": 4,
 "nbformat_minor": 2
}
